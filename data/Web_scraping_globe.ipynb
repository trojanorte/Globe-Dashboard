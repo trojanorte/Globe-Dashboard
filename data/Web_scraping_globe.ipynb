{
 "cells": [
  {
   "cell_type": "markdown",
   "id": "d97a3a8e",
   "metadata": {},
   "source": [
    "# 🚀 Web Scraping do GLOBE com Selenium"
   ]
  },
  {
   "cell_type": "markdown",
   "id": "631ef547",
   "metadata": {},
   "source": [
    "Este notebook realiza web scraping no site do GLOBE, lidando com paginação e salvando os dados extraídos em JSON."
   ]
  },
  {
   "cell_type": "code",
   "execution_count": null,
   "id": "14f12efb",
   "metadata": {},
   "outputs": [],
   "source": [
    "\n",
    "# Instalar as bibliotecas necessárias\n",
    "!pip install selenium webdriver-manager\n",
    "    "
   ]
  },
  {
   "cell_type": "code",
   "execution_count": null,
   "id": "d9301994",
   "metadata": {},
   "outputs": [],
   "source": [
    "\n",
    "from selenium import webdriver\n",
    "from selenium.webdriver.chrome.service import Service\n",
    "from selenium.webdriver.chrome.options import Options\n",
    "from selenium.webdriver.common.by import By\n",
    "from webdriver_manager.chrome import ChromeDriverManager\n",
    "import json\n",
    "import time\n",
    "\n",
    "# Configuração do WebDriver\n",
    "chrome_options = Options()\n",
    "chrome_options.add_argument(\"--headless\")  # Roda sem abrir o navegador\n",
    "service = Service(ChromeDriverManager().install())  # Garante a versão correta do ChromeDriver\n",
    "\n",
    "driver = webdriver.Chrome(service=service, options=chrome_options)\n",
    "\n",
    "# URL do site do GLOBE\n",
    "URL = \"https://www.globe.gov/do-globe/research-resources/student-research-reports\"\n",
    "driver.get(URL)\n",
    "time.sleep(3)  # Espera carregar a página\n",
    "\n",
    "# Lista para armazenar os dados extraídos\n",
    "reports = []\n",
    "\n",
    "while True:\n",
    "    # Encontra os elementos da página\n",
    "    elements = driver.find_elements(By.CSS_SELECTOR, \".project-item\")  # Ajuste conforme necessário\n",
    "\n",
    "    for el in elements:\n",
    "        try:\n",
    "            title = el.find_element(By.CSS_SELECTOR, \".project-title\").text.strip()\n",
    "            country = el.find_element(By.CSS_SELECTOR, \".project-country\").text.strip()\n",
    "            educator = el.find_element(By.CSS_SELECTOR, \".project-educator\").text.strip() if el.find_elements(By.CSS_SELECTOR, \".project-educator\") else \"N/A\"\n",
    "            protocols = \", \".join([p.text.strip() for p in el.find_elements(By.CSS_SELECTOR, \".project-protocol\")])\n",
    "            language = el.find_element(By.CSS_SELECTOR, \".project-language\").text.strip() if el.find_elements(By.CSS_SELECTOR, \".project-language\") else \"N/A\"\n",
    "            date_submitted = el.find_element(By.CSS_SELECTOR, \".project-date\").text.strip()\n",
    "\n",
    "            reports.append({\n",
    "                \"Title\": title,\n",
    "                \"Country\": country,\n",
    "                \"Educator\": educator,\n",
    "                \"Protocols\": protocols,\n",
    "                \"Language\": language,\n",
    "                \"Date Submitted\": date_submitted\n",
    "            })\n",
    "        except Exception as e:\n",
    "            print(f\"Erro ao coletar um item: {e}\")\n",
    "\n",
    "    # Tenta encontrar e clicar no botão de próxima página\n",
    "    try:\n",
    "        next_button = driver.find_element(By.LINK_TEXT, \"Next\")  # Ajuste conforme necessário\n",
    "        next_button.click()\n",
    "        time.sleep(3)  # Espera carregar a nova página\n",
    "    except:\n",
    "        print(\"Fim da paginação ou erro ao mudar de página.\")\n",
    "        break\n",
    "\n",
    "# Fechar o navegador\n",
    "driver.quit()\n",
    "\n",
    "# Salvar os dados extraídos em JSON\n",
    "with open(\"globe_data.json\", \"w\", encoding=\"utf-8\") as f:\n",
    "    json.dump(reports, f, indent=4, ensure_ascii=False)\n",
    "\n",
    "print(f\"Extração concluída! {len(reports)} relatórios salvos.\")\n",
    "    "
   ]
  },
  {
   "cell_type": "markdown",
   "id": "91a75f52",
   "metadata": {},
   "source": [
    "### ✅ **Conclusão**\n",
    "Este notebook executa o web scraping do site do GLOBE, navegando automaticamente entre as páginas e salvando os dados em JSON."
   ]
  }
 ],
 "metadata": {},
 "nbformat": 4,
 "nbformat_minor": 5
}